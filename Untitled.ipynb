{
 "cells": [
  {
   "cell_type": "code",
   "execution_count": 2,
   "id": "60010aaf",
   "metadata": {},
   "outputs": [],
   "source": [
    "from chaos_maps import ChaoticMap\n",
    "from chaos_maps.plotting import ChaoticMapPlot\n",
    "\n",
    "import matplotlib.pyplot as plt\n",
    "\n",
    "import numpy as np"
   ]
  },
  {
   "cell_type": "code",
   "execution_count": 23,
   "id": "84235b35",
   "metadata": {},
   "outputs": [],
   "source": [
    "def step(x, r): \n",
    "    x, y, z = x\n",
    "    a, b, c = r\n",
    "\n",
    "    r1 = y\n",
    "    \n",
    "    r2 = -x + y*z\n",
    "    \n",
    "    r3 = -x - a*x*y - b*x*z + c\n",
    "    \n",
    "    return r1, r2, r3\n",
    "\n",
    "map = ChaoticMap(step)\n",
    "plotter = ChaoticMapPlot(map)"
   ]
  },
  {
   "cell_type": "code",
   "execution_count": 32,
   "id": "8014d88f",
   "metadata": {},
   "outputs": [],
   "source": [
    "x0 = (0.01, 0.01, 0)"
   ]
  },
  {
   "cell_type": "code",
   "execution_count": 33,
   "id": "243f12a1",
   "metadata": {},
   "outputs": [],
   "source": [
    "t = map.trajectory(x0, (15, 1, 0.1), num_point=100)"
   ]
  },
  {
   "cell_type": "code",
   "execution_count": null,
   "id": "4062893c",
   "metadata": {},
   "outputs": [],
   "source": [
    "pam_range = np.arange(-0.015, 0.005, 0.0000001)\n",
    "p_range = (15, 1, pam_range)\n",
    "le_dict = plotter.lyapunov_exponent_dict(x0, p_range, num_points = 200)"
   ]
  },
  {
   "cell_type": "code",
   "execution_count": null,
   "id": "9ee20375",
   "metadata": {},
   "outputs": [],
   "source": [
    "le_x, le_y, le_z = zip(*le_dict.values())"
   ]
  },
  {
   "cell_type": "code",
   "execution_count": null,
   "id": "aa804bbb",
   "metadata": {},
   "outputs": [],
   "source": [
    "fig, ax = plt.subplots(3, 1)\n",
    "ax[0].plot(pam_range, le_x, linewidth=1)\n",
    "ax[0].axhline(y=0, color='g', linestyle='dashed')\n",
    "# ax[0].axis(ymin=-2.5, ymax=2.5)\n",
    "ax[1].plot(pam_range, le_y, linewidth=1)\n",
    "ax[1].axhline(y=0, color='g', linestyle='dashed')\n",
    "# ax[1].axis(ymin=-2.5, ymax=2.5)\n",
    "ax[2].plot(pam_range, le_z, linewidth=1)\n",
    "ax[2].axhline(y=0, color='g', linestyle='dashed')\n",
    "# ax[2].axis(ymin=-2.5, ymax=2.5)"
   ]
  },
  {
   "cell_type": "code",
   "execution_count": null,
   "id": "4b4edf59",
   "metadata": {},
   "outputs": [],
   "source": []
  }
 ],
 "metadata": {
  "kernelspec": {
   "display_name": "Python 3 (ipykernel)",
   "language": "python",
   "name": "python3"
  },
  "language_info": {
   "codemirror_mode": {
    "name": "ipython",
    "version": 3
   },
   "file_extension": ".py",
   "mimetype": "text/x-python",
   "name": "python",
   "nbconvert_exporter": "python",
   "pygments_lexer": "ipython3",
   "version": "3.10.4"
  }
 },
 "nbformat": 4,
 "nbformat_minor": 5
}
